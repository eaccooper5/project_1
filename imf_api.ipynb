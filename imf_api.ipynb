{
 "cells": [
  {
   "cell_type": "code",
   "execution_count": 2,
   "metadata": {},
   "outputs": [],
   "source": [
    "# Dependencies\n",
    "import requests\n",
    "import json\n",
    "import pandas\n",
    "import pprint"
   ]
  },
  {
   "cell_type": "code",
   "execution_count": 3,
   "metadata": {},
   "outputs": [],
   "source": [
    "# URL for GET requests to retrieve imf data\n",
    "advanced_countries_list = [\"United States\",\"New Zealand\",\"Germany\",\"Finland\",\"Japan\",\"Spain\"]\n",
    "emerging_countries_list = [\"Croatia\",\"Chile\",\"Morocco\",\"South Africa\",\"Jordan\",\"Hungary\"]\n",
    "total_countries_list = advanced_countries_list + emerging_countries_list\n",
    "indicators = [\"LP\"]\n",
    "countryID = [\"USA\"]\n",
    "timeSpan = [\"2019\",\"2020\",\"2021\",\"2022\",\"2023\"]\n",
    "#url = f\"https://www.imf.org/external/datamapper/api/v1/{total_countries_list}\"\n",
    "url = f\"https://www.imf.org/external/datamapper/api/v1/{indicators[0]}/{countryID[0]}\"\n",
    "#print(total_countries_list)"
   ]
  },
  {
   "cell_type": "code",
   "execution_count": 4,
   "metadata": {},
   "outputs": [
    {
     "name": "stdout",
     "output_type": "stream",
     "text": [
      "{\n",
      "    \"api\": {\n",
      "        \"output-method\": \"json\",\n",
      "        \"version\": \"1\"\n",
      "    },\n",
      "    \"values\": {\n",
      "        \"LP\": {\n",
      "            \"USA\": {\n",
      "                \"1980\": 227.622,\n",
      "                \"1981\": 229.916,\n",
      "                \"1982\": 232.128,\n",
      "                \"1983\": 234.246,\n",
      "                \"1984\": 236.307,\n",
      "                \"1985\": 238.416,\n",
      "                \"1986\": 240.593,\n",
      "                \"1987\": 242.751,\n",
      "                \"1988\": 244.968,\n",
      "                \"1989\": 247.286,\n",
      "                \"1990\": 250.047,\n",
      "                \"1991\": 253.392,\n",
      "                \"1992\": 256.777,\n",
      "                \"1993\": 260.146,\n",
      "                \"1994\": 263.325,\n",
      "                \"1995\": 266.458,\n",
      "                \"1996\": 269.581,\n",
      "                \"1997\": 272.822,\n",
      "                \"1998\": 276.022,\n",
      "                \"1999\": 279.195,\n",
      "                \"2000\": 282.296,\n",
      "                \"2001\": 285.216,\n",
      "                \"2002\": 288.019,\n",
      "                \"2003\": 290.733,\n",
      "                \"2004\": 293.389,\n",
      "                \"2005\": 296.115,\n",
      "                \"2006\": 298.93,\n",
      "                \"2007\": 301.903,\n",
      "                \"2008\": 304.718,\n",
      "                \"2009\": 307.374,\n",
      "                \"2010\": 309.737,\n",
      "                \"2011\": 311.944,\n",
      "                \"2012\": 314.167,\n",
      "                \"2013\": 316.331,\n",
      "                \"2014\": 318.619,\n",
      "                \"2015\": 320.926,\n",
      "                \"2016\": 323.221,\n",
      "                \"2017\": 325.28,\n",
      "                \"2018\": 327.023,\n",
      "                \"2019\": 328.547,\n",
      "                \"2020\": 331.257,\n",
      "                \"2021\": 332.314,\n",
      "                \"2022\": 333.53,\n",
      "                \"2023\": 335.143,\n",
      "                \"2024\": 336.692,\n",
      "                \"2025\": 338.263,\n",
      "                \"2026\": 339.841,\n",
      "                \"2027\": 341.426,\n",
      "                \"2028\": 343.019\n",
      "            }\n",
      "        }\n",
      "    }\n",
      "}\n"
     ]
    }
   ],
   "source": [
    "# Pretty print JSON for all countries\n",
    "response = requests.get(url).json()\n",
    "print(json.dumps(\n",
    "    response,\n",
    "    indent = 4,\n",
    "    sort_keys=True))"
   ]
  },
  {
   "cell_type": "code",
   "execution_count": 5,
   "metadata": {},
   "outputs": [
    {
     "name": "stdout",
     "output_type": "stream",
     "text": [
      "{'1980': 227.622, '1981': 229.916, '1982': 232.128, '1983': 234.246, '1984': 236.307, '1985': 238.416, '1986': 240.593, '1987': 242.751, '1988': 244.968, '1989': 247.286, '1990': 250.047, '1991': 253.392, '1992': 256.777, '1993': 260.146, '1994': 263.325, '1995': 266.458, '1996': 269.581, '1997': 272.822, '1998': 276.022, '1999': 279.195, '2000': 282.296, '2001': 285.216, '2002': 288.019, '2003': 290.733, '2004': 293.389, '2005': 296.115, '2006': 298.93, '2007': 301.903, '2008': 304.718, '2009': 307.374, '2010': 309.737, '2011': 311.944, '2012': 314.167, '2013': 316.331, '2014': 318.619, '2015': 320.926, '2016': 323.221, '2017': 325.28, '2018': 327.023, '2019': 328.547, '2020': 331.257, '2021': 332.314, '2022': 333.53, '2023': 335.143, '2024': 336.692, '2025': 338.263, '2026': 339.841, '2027': 341.426, '2028': 343.019}\n"
     ]
    }
   ],
   "source": [
    "USA_pop = response[\"values\"][\"LP\"][\"USA\"]\n",
    "\n",
    "print(USA_pop)\n",
    "\n",
    "#x = 39\n",
    "#while x<43:\n",
    "    #USA_pop.append(response[x])\n",
    "    #x = x +1 \n",
    "#print(USA_pop)"
   ]
  },
  {
   "cell_type": "code",
   "execution_count": null,
   "metadata": {},
   "outputs": [],
   "source": [
    "if __name__ == \"__main__\":\n",
    "    get_api_data() = requests.get(url).json()\n",
    "    \n",
    "    \n",
    "    data_dict = {\n",
    "    \"advanced_countries\": advanced_countries_list,\n",
    "    \"emerging_countries\": emerging_countries_list,\n",
    "    \"total_countries\": total_countries_list,\n",
    "    \"indicators\": indicators,\n",
    "    \"countryID\": countryID,\n",
    "    \"timeSpan\": timeSpan}\n",
    "\n",
    "# Print the dictionary\n",
    "print(data_dict)"
   ]
  }
 ],
 "metadata": {
  "kernelspec": {
   "display_name": "dev",
   "language": "python",
   "name": "python3"
  },
  "language_info": {
   "codemirror_mode": {
    "name": "ipython",
    "version": 3
   },
   "file_extension": ".py",
   "mimetype": "text/x-python",
   "name": "python",
   "nbconvert_exporter": "python",
   "pygments_lexer": "ipython3",
   "version": "3.10.13"
  }
 },
 "nbformat": 4,
 "nbformat_minor": 2
}
